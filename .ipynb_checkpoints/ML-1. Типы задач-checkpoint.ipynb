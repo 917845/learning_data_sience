{
 "cells": [
  {
   "cell_type": "markdown",
   "metadata": {},
   "source": [
    "# Категории задач машинного обучения"
   ]
  },
  {
   "cell_type": "markdown",
   "metadata": {},
   "source": [
    "## 1. Обучение с учителем:\n",
    "-    1.1. Задачи классификации\n",
    "-     1.2. Задачи регрессии"
   ]
  },
  {
   "cell_type": "markdown",
   "metadata": {},
   "source": [
    "## 2. Обучение без учителя:\n",
    "- 2.1. Задачи кластеризации\n",
    "- 2.2. Задачи понижения размерности\n"
   ]
  },
  {
   "cell_type": "markdown",
   "metadata": {},
   "source": [
    "////"
   ]
  },
  {
   "cell_type": "markdown",
   "metadata": {},
   "source": [
    "# Самые важные алгоритмы для разных категорий задач"
   ]
  },
  {
   "cell_type": "markdown",
   "metadata": {},
   "source": [
    "## Задачи классификации\n",
    "- Гауссов наивный байесовский классификатор\n",
    "- Метод опорных векторов\n",
    "- Классификация на основе случайных лесов"
   ]
  },
  {
   "cell_type": "markdown",
   "metadata": {},
   "source": [
    "# Задачи регрессии\n",
    "- Линейная регрессия\n",
    "- Метод опорных векторов\n",
    "- Регрессия на основе случайных лесов"
   ]
  },
  {
   "cell_type": "markdown",
   "metadata": {},
   "source": [
    "# Задачи кластеризации\n",
    "- Кластеризация методом k-средних\n",
    "- Смесь Гауссовых распределений\n",
    "- Спектральная кластеризация"
   ]
  },
  {
   "cell_type": "markdown",
   "metadata": {},
   "source": [
    "# Задачи понижения размерности\n",
    "- Метод главных компонент\n",
    "- Обучение на базе многообразий (например, Isomap и локально линейное вложение)"
   ]
  }
 ],
 "metadata": {
  "kernelspec": {
   "display_name": "Python 3",
   "language": "python",
   "name": "python3"
  },
  "language_info": {
   "codemirror_mode": {
    "name": "ipython",
    "version": 3
   },
   "file_extension": ".py",
   "mimetype": "text/x-python",
   "name": "python",
   "nbconvert_exporter": "python",
   "pygments_lexer": "ipython3",
   "version": "3.6.4"
  }
 },
 "nbformat": 4,
 "nbformat_minor": 2
}
